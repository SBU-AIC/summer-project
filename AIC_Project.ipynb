{
  "cells": [
    {
      "cell_type": "markdown",
      "metadata": {
        "id": "view-in-github",
        "colab_type": "text"
      },
      "source": [
        "<a href=\"https://colab.research.google.com/github/SBU-AIC/summer-project/blob/main/AIC_Project.ipynb\" target=\"_parent\"><img src=\"https://colab.research.google.com/assets/colab-badge.svg\" alt=\"Open In Colab\"/></a>"
      ]
    },
    {
      "cell_type": "code",
      "source": [
        "# @title Project Description\n",
        "# @markdown Feel free to ask any questions about this project from your TAs. ;)\n",
        "from IPython.display import IFrame\n",
        "link_id = \"1x2-V9q9agw8F3nCaTkv2uy6jyDE5y3LgKrisKXTjIDg/edit?usp=sharing\"\n",
        "print(f\"If you want to download the slides: https://docs.google.com/document/d/{link_id}/\")\n",
        "IFrame(src=f\"https://docs.google.com/document/d/{link_id}/?direct%26mode=render%26action=download%26mode=render\", width=1200, height=480)"
      ],
      "metadata": {
        "colab": {
          "base_uri": "https://localhost:8080/",
          "height": 519
        },
        "cellView": "form",
        "id": "9iO1T97CWPWu",
        "outputId": "702a795f-e82c-4feb-ab6b-0728d55e2dc9"
      },
      "execution_count": null,
      "outputs": [
        {
          "output_type": "stream",
          "name": "stdout",
          "text": [
            "If you want to download the slides: https://docs.google.com/document/d/1x2-V9q9agw8F3nCaTkv2uy6jyDE5y3LgKrisKXTjIDg/edit?usp=sharing/\n"
          ]
        },
        {
          "output_type": "execute_result",
          "data": {
            "text/plain": [
              "<IPython.lib.display.IFrame at 0x7a03de4ce3b0>"
            ],
            "text/html": [
              "\n",
              "        <iframe\n",
              "            width=\"1200\"\n",
              "            height=\"480\"\n",
              "            src=\"https://docs.google.com/document/d/1x2-V9q9agw8F3nCaTkv2uy6jyDE5y3LgKrisKXTjIDg/edit?usp=sharing/?direct%26mode=render%26action=download%26mode=render\"\n",
              "            frameborder=\"0\"\n",
              "            allowfullscreen\n",
              "            \n",
              "        ></iframe>\n",
              "        "
            ]
          },
          "metadata": {},
          "execution_count": 9
        }
      ]
    },
    {
      "cell_type": "code",
      "execution_count": null,
      "metadata": {
        "id": "hN_HeMVgtSFT",
        "cellView": "form"
      },
      "outputs": [],
      "source": [
        "# @markdown import necessaries\n",
        "import pandas as pd\n",
        "import numpy as np\n",
        "import matplotlib.pyplot as plt\n",
        "from sklearn import preprocessing\n",
        "%matplotlib inline"
      ]
    },
    {
      "cell_type": "code",
      "source": [
        "# @markdown Figure Settings\n",
        "import logging\n",
        "logging.getLogger('matplotlib.font_manager').disabled = True\n",
        "\n",
        "import ipywidgets as widgets  # interactive display\n",
        "%config InlineBackend.figure_format = 'retina'"
      ],
      "metadata": {
        "cellView": "form",
        "id": "lLUMSW7LRN48"
      },
      "execution_count": null,
      "outputs": []
    },
    {
      "cell_type": "markdown",
      "metadata": {
        "id": "H7izED7wADVm"
      },
      "source": [
        "# Load Dataset"
      ]
    },
    {
      "cell_type": "code",
      "execution_count": null,
      "metadata": {
        "id": "9x9pOwGdADVn",
        "colab": {
          "base_uri": "https://localhost:8080/",
          "height": 49,
          "referenced_widgets": [
            "2885a00d526c404c94911e961e54b078",
            "e7f7df38a86a40d18339a3619499293b",
            "543f8569677043049c60368c06a83705",
            "1637a3a5627b4906812afa9fb12e97d2",
            "bcfd18eee78b42df950b11a133177784",
            "c93ace48b72d483eb9961e16105b1822",
            "e5e3b0d129844edea3dfaf2dcf3feaa6",
            "e011d8fc1a594b6e9cef443ec1c7b829",
            "0501b933bee54b9daa59998885dd2440",
            "bd2d1c6122304a168834df3f86c686d7",
            "47fc6f88265046098944c2276c22962b"
          ]
        },
        "outputId": "935090af-2a71-41e6-f872-c7e7ab0043c4",
        "cellView": "form"
      },
      "outputs": [
        {
          "output_type": "display_data",
          "data": {
            "text/plain": [
              "  0%|          | 0/2 [00:00<?, ?it/s]"
            ],
            "application/vnd.jupyter.widget-view+json": {
              "version_major": 2,
              "version_minor": 0,
              "model_id": "2885a00d526c404c94911e961e54b078"
            }
          },
          "metadata": {}
        }
      ],
      "source": [
        "# @markdown load data\n",
        "from tqdm.notebook import tqdm\n",
        "import os\n",
        "\n",
        "urls = ['https://raw.githubusercontent.com/SBU-AIC/summer-project/main/USDGBP.csv',\n",
        "        'https://raw.githubusercontent.com/SBU-AIC/summer-project/main/USDJPY.csv']\n",
        "\n",
        "progress = tqdm(total=len(urls))\n",
        "\n",
        "for url in urls:\n",
        "  !wget $url -q\n",
        "\n",
        "  progress.set_description(f\"Downloading files\")\n",
        "  progress.update(1)\n",
        "\n",
        "progress.close()\n",
        "\n",
        "usd_gbp = pd.read_csv('USDGBP.csv', parse_dates=[0])\n",
        "usd_jpy = pd.read_csv('USDJPY.csv', parse_dates=[0])\n"
      ]
    },
    {
      "cell_type": "code",
      "execution_count": null,
      "metadata": {
        "colab": {
          "base_uri": "https://localhost:8080/",
          "height": 206
        },
        "id": "9_C2iFmAADVo",
        "outputId": "47b214d5-26e8-4784-df23-0d142e80f35c"
      },
      "outputs": [
        {
          "output_type": "execute_result",
          "data": {
            "text/plain": [
              "        Date  USDJPY  USDGBP\n",
              "0 2017-05-26  111.33  0.7809\n",
              "1 2017-05-25  111.84  0.7727\n",
              "2 2017-05-24  111.49  0.7708\n",
              "3 2017-05-23  111.78  0.7716\n",
              "4 2017-05-22  111.30  0.7693"
            ],
            "text/html": [
              "\n",
              "\n",
              "  <div id=\"df-e86828ee-965f-4387-ab29-1bc5510e0684\">\n",
              "    <div class=\"colab-df-container\">\n",
              "      <div>\n",
              "<style scoped>\n",
              "    .dataframe tbody tr th:only-of-type {\n",
              "        vertical-align: middle;\n",
              "    }\n",
              "\n",
              "    .dataframe tbody tr th {\n",
              "        vertical-align: top;\n",
              "    }\n",
              "\n",
              "    .dataframe thead th {\n",
              "        text-align: right;\n",
              "    }\n",
              "</style>\n",
              "<table border=\"1\" class=\"dataframe\">\n",
              "  <thead>\n",
              "    <tr style=\"text-align: right;\">\n",
              "      <th></th>\n",
              "      <th>Date</th>\n",
              "      <th>USDJPY</th>\n",
              "      <th>USDGBP</th>\n",
              "    </tr>\n",
              "  </thead>\n",
              "  <tbody>\n",
              "    <tr>\n",
              "      <th>0</th>\n",
              "      <td>2017-05-26</td>\n",
              "      <td>111.33</td>\n",
              "      <td>0.7809</td>\n",
              "    </tr>\n",
              "    <tr>\n",
              "      <th>1</th>\n",
              "      <td>2017-05-25</td>\n",
              "      <td>111.84</td>\n",
              "      <td>0.7727</td>\n",
              "    </tr>\n",
              "    <tr>\n",
              "      <th>2</th>\n",
              "      <td>2017-05-24</td>\n",
              "      <td>111.49</td>\n",
              "      <td>0.7708</td>\n",
              "    </tr>\n",
              "    <tr>\n",
              "      <th>3</th>\n",
              "      <td>2017-05-23</td>\n",
              "      <td>111.78</td>\n",
              "      <td>0.7716</td>\n",
              "    </tr>\n",
              "    <tr>\n",
              "      <th>4</th>\n",
              "      <td>2017-05-22</td>\n",
              "      <td>111.30</td>\n",
              "      <td>0.7693</td>\n",
              "    </tr>\n",
              "  </tbody>\n",
              "</table>\n",
              "</div>\n",
              "      <button class=\"colab-df-convert\" onclick=\"convertToInteractive('df-e86828ee-965f-4387-ab29-1bc5510e0684')\"\n",
              "              title=\"Convert this dataframe to an interactive table.\"\n",
              "              style=\"display:none;\">\n",
              "\n",
              "  <svg xmlns=\"http://www.w3.org/2000/svg\" height=\"24px\"viewBox=\"0 0 24 24\"\n",
              "       width=\"24px\">\n",
              "    <path d=\"M0 0h24v24H0V0z\" fill=\"none\"/>\n",
              "    <path d=\"M18.56 5.44l.94 2.06.94-2.06 2.06-.94-2.06-.94-.94-2.06-.94 2.06-2.06.94zm-11 1L8.5 8.5l.94-2.06 2.06-.94-2.06-.94L8.5 2.5l-.94 2.06-2.06.94zm10 10l.94 2.06.94-2.06 2.06-.94-2.06-.94-.94-2.06-.94 2.06-2.06.94z\"/><path d=\"M17.41 7.96l-1.37-1.37c-.4-.4-.92-.59-1.43-.59-.52 0-1.04.2-1.43.59L10.3 9.45l-7.72 7.72c-.78.78-.78 2.05 0 2.83L4 21.41c.39.39.9.59 1.41.59.51 0 1.02-.2 1.41-.59l7.78-7.78 2.81-2.81c.8-.78.8-2.07 0-2.86zM5.41 20L4 18.59l7.72-7.72 1.47 1.35L5.41 20z\"/>\n",
              "  </svg>\n",
              "      </button>\n",
              "\n",
              "\n",
              "\n",
              "    <div id=\"df-c7af955a-112c-4da2-8125-7e141b599615\">\n",
              "      <button class=\"colab-df-quickchart\" onclick=\"quickchart('df-c7af955a-112c-4da2-8125-7e141b599615')\"\n",
              "              title=\"Suggest charts.\"\n",
              "              style=\"display:none;\">\n",
              "\n",
              "<svg xmlns=\"http://www.w3.org/2000/svg\" height=\"24px\"viewBox=\"0 0 24 24\"\n",
              "     width=\"24px\">\n",
              "    <g>\n",
              "        <path d=\"M19 3H5c-1.1 0-2 .9-2 2v14c0 1.1.9 2 2 2h14c1.1 0 2-.9 2-2V5c0-1.1-.9-2-2-2zM9 17H7v-7h2v7zm4 0h-2V7h2v10zm4 0h-2v-4h2v4z\"/>\n",
              "    </g>\n",
              "</svg>\n",
              "      </button>\n",
              "    </div>\n",
              "\n",
              "<style>\n",
              "  .colab-df-quickchart {\n",
              "    background-color: #E8F0FE;\n",
              "    border: none;\n",
              "    border-radius: 50%;\n",
              "    cursor: pointer;\n",
              "    display: none;\n",
              "    fill: #1967D2;\n",
              "    height: 32px;\n",
              "    padding: 0 0 0 0;\n",
              "    width: 32px;\n",
              "  }\n",
              "\n",
              "  .colab-df-quickchart:hover {\n",
              "    background-color: #E2EBFA;\n",
              "    box-shadow: 0px 1px 2px rgba(60, 64, 67, 0.3), 0px 1px 3px 1px rgba(60, 64, 67, 0.15);\n",
              "    fill: #174EA6;\n",
              "  }\n",
              "\n",
              "  [theme=dark] .colab-df-quickchart {\n",
              "    background-color: #3B4455;\n",
              "    fill: #D2E3FC;\n",
              "  }\n",
              "\n",
              "  [theme=dark] .colab-df-quickchart:hover {\n",
              "    background-color: #434B5C;\n",
              "    box-shadow: 0px 1px 3px 1px rgba(0, 0, 0, 0.15);\n",
              "    filter: drop-shadow(0px 1px 2px rgba(0, 0, 0, 0.3));\n",
              "    fill: #FFFFFF;\n",
              "  }\n",
              "</style>\n",
              "\n",
              "    <script>\n",
              "      async function quickchart(key) {\n",
              "        const containerElement = document.querySelector('#' + key);\n",
              "        const charts = await google.colab.kernel.invokeFunction(\n",
              "            'suggestCharts', [key], {});\n",
              "      }\n",
              "    </script>\n",
              "\n",
              "      <script>\n",
              "\n",
              "function displayQuickchartButton(domScope) {\n",
              "  let quickchartButtonEl =\n",
              "    domScope.querySelector('#df-c7af955a-112c-4da2-8125-7e141b599615 button.colab-df-quickchart');\n",
              "  quickchartButtonEl.style.display =\n",
              "    google.colab.kernel.accessAllowed ? 'block' : 'none';\n",
              "}\n",
              "\n",
              "        displayQuickchartButton(document);\n",
              "      </script>\n",
              "      <style>\n",
              "    .colab-df-container {\n",
              "      display:flex;\n",
              "      flex-wrap:wrap;\n",
              "      gap: 12px;\n",
              "    }\n",
              "\n",
              "    .colab-df-convert {\n",
              "      background-color: #E8F0FE;\n",
              "      border: none;\n",
              "      border-radius: 50%;\n",
              "      cursor: pointer;\n",
              "      display: none;\n",
              "      fill: #1967D2;\n",
              "      height: 32px;\n",
              "      padding: 0 0 0 0;\n",
              "      width: 32px;\n",
              "    }\n",
              "\n",
              "    .colab-df-convert:hover {\n",
              "      background-color: #E2EBFA;\n",
              "      box-shadow: 0px 1px 2px rgba(60, 64, 67, 0.3), 0px 1px 3px 1px rgba(60, 64, 67, 0.15);\n",
              "      fill: #174EA6;\n",
              "    }\n",
              "\n",
              "    [theme=dark] .colab-df-convert {\n",
              "      background-color: #3B4455;\n",
              "      fill: #D2E3FC;\n",
              "    }\n",
              "\n",
              "    [theme=dark] .colab-df-convert:hover {\n",
              "      background-color: #434B5C;\n",
              "      box-shadow: 0px 1px 3px 1px rgba(0, 0, 0, 0.15);\n",
              "      filter: drop-shadow(0px 1px 2px rgba(0, 0, 0, 0.3));\n",
              "      fill: #FFFFFF;\n",
              "    }\n",
              "  </style>\n",
              "\n",
              "      <script>\n",
              "        const buttonEl =\n",
              "          document.querySelector('#df-e86828ee-965f-4387-ab29-1bc5510e0684 button.colab-df-convert');\n",
              "        buttonEl.style.display =\n",
              "          google.colab.kernel.accessAllowed ? 'block' : 'none';\n",
              "\n",
              "        async function convertToInteractive(key) {\n",
              "          const element = document.querySelector('#df-e86828ee-965f-4387-ab29-1bc5510e0684');\n",
              "          const dataTable =\n",
              "            await google.colab.kernel.invokeFunction('convertToInteractive',\n",
              "                                                     [key], {});\n",
              "          if (!dataTable) return;\n",
              "\n",
              "          const docLinkHtml = 'Like what you see? Visit the ' +\n",
              "            '<a target=\"_blank\" href=https://colab.research.google.com/notebooks/data_table.ipynb>data table notebook</a>'\n",
              "            + ' to learn more about interactive tables.';\n",
              "          element.innerHTML = '';\n",
              "          dataTable['output_type'] = 'display_data';\n",
              "          await google.colab.output.renderOutput(dataTable, element);\n",
              "          const docLink = document.createElement('div');\n",
              "          docLink.innerHTML = docLinkHtml;\n",
              "          element.appendChild(docLink);\n",
              "        }\n",
              "      </script>\n",
              "    </div>\n",
              "  </div>\n"
            ]
          },
          "metadata": {},
          "execution_count": 62
        }
      ],
      "source": [
        "usd_dataset = usd_jpy.merge(right=usd_gbp, how='left', on='Date')\n",
        "usd_dataset = usd_dataset.dropna(axis=0, how='any') # drop missing values\n",
        "usd_dataset.head()"
      ]
    },
    {
      "cell_type": "markdown",
      "metadata": {
        "id": "0NR8ybDcADVp"
      },
      "source": [
        "# Preprocess Dataset and plot"
      ]
    },
    {
      "cell_type": "code",
      "execution_count": null,
      "metadata": {
        "colab": {
          "base_uri": "https://localhost:8080/",
          "height": 466
        },
        "id": "XiZj3vazADVq",
        "outputId": "614f1c26-61af-4673-e22e-a3c8dc33e664"
      },
      "outputs": [
        {
          "output_type": "execute_result",
          "data": {
            "text/plain": [
              "Text(0, 0.5, 'USDGBP')"
            ]
          },
          "metadata": {},
          "execution_count": 67
        },
        {
          "output_type": "display_data",
          "data": {
            "text/plain": [
              "<Figure size 640x480 with 1 Axes>"
            ],
            "image/png": "[encoded data removed]"
          },
          "metadata": {
            "image/png": {
              "width": 576,
              "height": 432
            }
          }
        }
      ],
      "source": [
        "days = 200\n",
        "inp_feature = 'USDJPY'\n",
        "out_feature = 'USDGBP'\n",
        "X = preprocessing.normalize(usd_dataset[inp_feature].values.reshape(-1, 1)[-days:], axis=0, norm='max')\n",
        "y = preprocessing.normalize(usd_dataset[out_feature].values.reshape(-1, 1)[-days:], axis=0, norm='max')\n",
        "\n",
        "plt.scatter(X, y, marker='o', color='blue', s=3)\n",
        "plt.xlabel(inp_feature)\n",
        "plt.ylabel(out_feature)"
      ]
    },
    {
      "cell_type": "markdown",
      "metadata": {
        "id": "srny6Lv2ADVq"
      },
      "source": [
        "# Linear Regression best model prediction"
      ]
    },
    {
      "cell_type": "code",
      "execution_count": null,
      "metadata": {
        "colab": {
          "base_uri": "https://localhost:8080/"
        },
        "id": "81eaW5KUADVr",
        "outputId": "4bb03843-9532-4e1c-8fde-8f629acdc315"
      },
      "outputs": [
        {
          "output_type": "stream",
          "name": "stdout",
          "text": [
            "Coefficient : 1.7761 \n",
            "Intercept : -0.719\n"
          ]
        }
      ],
      "source": [
        "from sklearn.linear_model import LinearRegression\n",
        "model = LinearRegression()\n",
        "model.fit(X, y)\n",
        "print('Coefficient :', np.round(model.coef_[0][0],decimals=4),\n",
        "      '\\nIntercept :', np.round(model.intercept_[0], decimals=4))"
      ]
    },
    {
      "cell_type": "code",
      "execution_count": null,
      "metadata": {
        "colab": {
          "base_uri": "https://localhost:8080/",
          "height": 466
        },
        "cellView": "form",
        "id": "czttaTZlADVr",
        "outputId": "db6b8e22-f0fc-454a-8a7e-b1ef9474c616"
      },
      "outputs": [
        {
          "output_type": "execute_result",
          "data": {
            "text/plain": [
              "Text(0, 0.5, 'USDGBP')"
            ]
          },
          "metadata": {},
          "execution_count": 69
        },
        {
          "output_type": "display_data",
          "data": {
            "text/plain": [
              "<Figure size 640x480 with 1 Axes>"
            ],
            "image/png": "[encoded data removed]"
          },
          "metadata": {
            "image/png": {
              "width": 576,
              "height": 432
            }
          }
        }
      ],
      "source": [
        "# @markdown plot the result\n",
        "line = model.predict(X)\n",
        "plt.scatter(X, y, marker='o', color='blue', s=3)\n",
        "plt.plot(X, line, color='red')\n",
        "plt.xlabel(inp_feature)\n",
        "plt.ylabel(out_feature)"
      ]
    },
    {
      "cell_type": "markdown",
      "metadata": {
        "id": "TTViT4gSADVs"
      },
      "source": [
        "# Genetic algorithm Implementation"
      ]
    },
    {
      "cell_type": "code",
      "execution_count": null,
      "metadata": {
        "id": "gH_muodYADVs"
      },
      "outputs": [],
      "source": [
        "class Genetic:\n",
        "\n",
        "  def __init__(self, generations, population):\n",
        "    self.generations = 100\n",
        "    self.population = population\n",
        "\n",
        "  def get_generations(self):\n",
        "    return self.generations\n",
        "\n",
        "  def fitness(solution):\n",
        "      ############################################################################\n",
        "      ## TODO: Calculate the fitness of the solution using the Ordinary Least Squares (OLS) method\n",
        "      ## Fill in function and remove\n",
        "      raise NotImplementedError(\"Please complete the fitness exercise\")\n",
        "      ############################################################################\n",
        "      fitness_val = ...\n",
        "\n",
        "      return fitness_val\n",
        "\n",
        "  def genPopulation(self):\n",
        "      '''Generate population of size individuals'''\n",
        "      ############################################################################\n",
        "      # TODO: Generate a population of size individuals with random coefficients and intercepts\n",
        "      # Coefficients and intercept should be in the range [-1, 1] since all data has been normalized with the maximum value\n",
        "      raise NotImplementedError(\"Please complete the Generate population exercise\")\n",
        "      ############################################################################\n",
        "      population = self.population\n",
        "      solutions = ...\n",
        "      return solutions\n",
        "\n",
        "  def selectBest(self, solutions):\n",
        "      fitnesses = np.apply_along_axis(self.fitness, 1, solutions)\n",
        "      return solutions[np.argsort(fitnesses, axis=0)[:20], :]\n",
        "\n",
        "  def crossover(sol1, sol2):\n",
        "      '''Perform crossover between two solutions by exchanging the intercepts and maintaining the coefficients'''\n",
        "      ############################################################################\n",
        "      # TODO: Perform crossover between sol1 and sol2 by exchanging the intercepts and maintaining the coefficients\n",
        "      # Return the offspring solutions\n",
        "      raise NotImplementedError(\"Please complete the crossover exercise\")\n",
        "      ############################################################################\n",
        "      offsprings = ...\n",
        "      return offsprings\n",
        "\n",
        "  def mutation(sol):\n",
        "      '''Perform mutation on the solution'''\n",
        "      ############################################################################\n",
        "      # TODO: Perform mutation on the solution with a certain probability (mutationProb)\n",
        "      raise NotImplementedError(\"Please complete the mutation exercise\")\n",
        "      ############################################################################\n",
        "      sol = ...\n",
        "      return sol\n",
        "\n",
        "  # Perform generationas while executing the genetic algorithm\n"
      ]
    },
    {
      "cell_type": "markdown",
      "metadata": {
        "id": "TfLNQd8BADVt"
      },
      "source": [
        "## Run the algorithm and track the results with plot and compare with best linear regression model prediction"
      ]
    },
    {
      "cell_type": "code",
      "execution_count": null,
      "metadata": {
        "id": "6oulI7VuADVt"
      },
      "outputs": [],
      "source": [
        "genetic_instance = Genetic(generations=100, population=400)\n",
        "\n",
        "solutions = genetic_instance.genPopulation()\n",
        "generations = genetic_instance.get_generations()\n",
        "\n",
        "best = []\n",
        "inter_sol = []\n",
        "fig = plt.figure(figsize=(8, 6))\n",
        "ax = fig.add_subplot(111)\n",
        "plt.ion()\n",
        "fig.show()\n",
        "fig.canvas.draw()\n",
        "\n",
        "for i in range(generations):\n",
        "    bestSols = genetic_instance.selectBest(solutions)\n",
        "    best = bestSols[0]\n",
        "    predict = np.concatenate((X, np.ones((X.shape[0], 1))), axis=1).dot(best.transpose())\n",
        "    inter_sol.append(predict)\n",
        "    ax.clear()\n",
        "    plt.scatter(X, y, marker='o', color='blue', s=3)\n",
        "    plt.plot(X, line, color='red', label='Regression')\n",
        "    plt.plot(X, predict, color='green', label='GA')\n",
        "    plt.xlabel(inp_feature)\n",
        "    plt.ylabel(out_feature)\n",
        "    plt.legend(loc='best')\n",
        "    fig.canvas.draw()\n",
        "    # Elitism\n",
        "    newPopulation = np.array(best)\n",
        "    for j in range(len(bestSols) - 1):\n",
        "        newPopulation = np.vstack((newPopulation, genetic_instance.crossover(bestSols[j], bestSols[j + 1])))\n",
        "    ############################################################################\n",
        "    # TODO: mutate your new population\n",
        "    raise NotImplementedError(\"Please complete this mutation part\")\n",
        "    ############################################################################\n",
        "    newPopulation = ...\n",
        "    solutions = newPopulation\n"
      ]
    },
    {
      "cell_type": "code",
      "execution_count": null,
      "metadata": {
        "id": "2WKmuQT7ADVu"
      },
      "outputs": [],
      "source": [
        "%matplotlib inline\n",
        "\n",
        "# Use the best candidate solution to predict the data and plot the GA found line\n",
        "predict = np.concatenate((X, np.ones((X.shape[0],1))), axis=1).dot(best.transpose())\n",
        "plt.scatter(X, y, marker='o', color='blue', s=3)\n",
        "plt.plot(X, line, color='red', label='Regression')\n",
        "plt.plot(X, predict, color='green', label='GA')\n",
        "plt.xlabel(inp_feature)\n",
        "plt.ylabel(out_feature)\n",
        "plt.legend(loc='best')"
      ]
    }
  ],
  "metadata": {
    "colab": {
      "provenance": [],
      "include_colab_link": true
    },
    "kernelspec": {
      "display_name": "Python 3",
      "name": "python3"
    },
    "language_info": {
      "codemirror_mode": {
        "name": "ipython",
        "version": 3
      },
      "file_extension": ".py",
      "mimetype": "text/x-python",
      "name": "python",
      "nbconvert_exporter": "python",
      "pygments_lexer": "ipython3",
      "version": "3.10.10"
    },
    "widgets": {
      "application/vnd.jupyter.widget-state+json": {
        "2885a00d526c404c94911e961e54b078": {
          "model_module": "@jupyter-widgets/controls",
          "model_name": "HBoxModel",
          "model_module_version": "1.5.0",
          "state": {
            "_dom_classes": [],
            "_model_module": "@jupyter-widgets/controls",
            "_model_module_version": "1.5.0",
            "_model_name": "HBoxModel",
            "_view_count": null,
            "_view_module": "@jupyter-widgets/controls",
            "_view_module_version": "1.5.0",
            "_view_name": "HBoxView",
            "box_style": "",
            "children": [
              "IPY_MODEL_e7f7df38a86a40d18339a3619499293b",
              "IPY_MODEL_543f8569677043049c60368c06a83705",
              "IPY_MODEL_1637a3a5627b4906812afa9fb12e97d2"
            ],
            "layout": "IPY_MODEL_bcfd18eee78b42df950b11a133177784"
          }
        },
        "e7f7df38a86a40d18339a3619499293b": {
          "model_module": "@jupyter-widgets/controls",
          "model_name": "HTMLModel",
          "model_module_version": "1.5.0",
          "state": {
            "_dom_classes": [],
            "_model_module": "@jupyter-widgets/controls",
            "_model_module_version": "1.5.0",
            "_model_name": "HTMLModel",
            "_view_count": null,
            "_view_module": "@jupyter-widgets/controls",
            "_view_module_version": "1.5.0",
            "_view_name": "HTMLView",
            "description": "",
            "description_tooltip": null,
            "layout": "IPY_MODEL_c93ace48b72d483eb9961e16105b1822",
            "placeholder": "​",
            "style": "IPY_MODEL_e5e3b0d129844edea3dfaf2dcf3feaa6",
            "value": "Downloading files: 100%"
          }
        },
        "543f8569677043049c60368c06a83705": {
          "model_module": "@jupyter-widgets/controls",
          "model_name": "FloatProgressModel",
          "model_module_version": "1.5.0",
          "state": {
            "_dom_classes": [],
            "_model_module": "@jupyter-widgets/controls",
            "_model_module_version": "1.5.0",
            "_model_name": "FloatProgressModel",
            "_view_count": null,
            "_view_module": "@jupyter-widgets/controls",
            "_view_module_version": "1.5.0",
            "_view_name": "ProgressView",
            "bar_style": "success",
            "description": "",
            "description_tooltip": null,
            "layout": "IPY_MODEL_e011d8fc1a594b6e9cef443ec1c7b829",
            "max": 2,
            "min": 0,
            "orientation": "horizontal",
            "style": "IPY_MODEL_0501b933bee54b9daa59998885dd2440",
            "value": 2
          }
        },
        "1637a3a5627b4906812afa9fb12e97d2": {
          "model_module": "@jupyter-widgets/controls",
          "model_name": "HTMLModel",
          "model_module_version": "1.5.0",
          "state": {
            "_dom_classes": [],
            "_model_module": "@jupyter-widgets/controls",
            "_model_module_version": "1.5.0",
            "_model_name": "HTMLModel",
            "_view_count": null,
            "_view_module": "@jupyter-widgets/controls",
            "_view_module_version": "1.5.0",
            "_view_name": "HTMLView",
            "description": "",
            "description_tooltip": null,
            "layout": "IPY_MODEL_bd2d1c6122304a168834df3f86c686d7",
            "placeholder": "​",
            "style": "IPY_MODEL_47fc6f88265046098944c2276c22962b",
            "value": " 2/2 [00:00&lt;00:00,  8.61it/s]"
          }
        },
        "bcfd18eee78b42df950b11a133177784": {
          "model_module": "@jupyter-widgets/base",
          "model_name": "LayoutModel",
          "model_module_version": "1.2.0",
          "state": {
            "_model_module": "@jupyter-widgets/base",
            "_model_module_version": "1.2.0",
            "_model_name": "LayoutModel",
            "_view_count": null,
            "_view_module": "@jupyter-widgets/base",
            "_view_module_version": "1.2.0",
            "_view_name": "LayoutView",
            "align_content": null,
            "align_items": null,
            "align_self": null,
            "border": null,
            "bottom": null,
            "display": null,
            "flex": null,
            "flex_flow": null,
            "grid_area": null,
            "grid_auto_columns": null,
            "grid_auto_flow": null,
            "grid_auto_rows": null,
            "grid_column": null,
            "grid_gap": null,
            "grid_row": null,
            "grid_template_areas": null,
            "grid_template_columns": null,
            "grid_template_rows": null,
            "height": null,
            "justify_content": null,
            "justify_items": null,
            "left": null,
            "margin": null,
            "max_height": null,
            "max_width": null,
            "min_height": null,
            "min_width": null,
            "object_fit": null,
            "object_position": null,
            "order": null,
            "overflow": null,
            "overflow_x": null,
            "overflow_y": null,
            "padding": null,
            "right": null,
            "top": null,
            "visibility": null,
            "width": null
          }
        },
        "c93ace48b72d483eb9961e16105b1822": {
          "model_module": "@jupyter-widgets/base",
          "model_name": "LayoutModel",
          "model_module_version": "1.2.0",
          "state": {
            "_model_module": "@jupyter-widgets/base",
            "_model_module_version": "1.2.0",
            "_model_name": "LayoutModel",
            "_view_count": null,
            "_view_module": "@jupyter-widgets/base",
            "_view_module_version": "1.2.0",
            "_view_name": "LayoutView",
            "align_content": null,
            "align_items": null,
            "align_self": null,
            "border": null,
            "bottom": null,
            "display": null,
            "flex": null,
            "flex_flow": null,
            "grid_area": null,
            "grid_auto_columns": null,
            "grid_auto_flow": null,
            "grid_auto_rows": null,
            "grid_column": null,
            "grid_gap": null,
            "grid_row": null,
            "grid_template_areas": null,
            "grid_template_columns": null,
            "grid_template_rows": null,
            "height": null,
            "justify_content": null,
            "justify_items": null,
            "left": null,
            "margin": null,
            "max_height": null,
            "max_width": null,
            "min_height": null,
            "min_width": null,
            "object_fit": null,
            "object_position": null,
            "order": null,
            "overflow": null,
            "overflow_x": null,
            "overflow_y": null,
            "padding": null,
            "right": null,
            "top": null,
            "visibility": null,
            "width": null
          }
        },
        "e5e3b0d129844edea3dfaf2dcf3feaa6": {
          "model_module": "@jupyter-widgets/controls",
          "model_name": "DescriptionStyleModel",
          "model_module_version": "1.5.0",
          "state": {
            "_model_module": "@jupyter-widgets/controls",
            "_model_module_version": "1.5.0",
            "_model_name": "DescriptionStyleModel",
            "_view_count": null,
            "_view_module": "@jupyter-widgets/base",
            "_view_module_version": "1.2.0",
            "_view_name": "StyleView",
            "description_width": ""
          }
        },
        "e011d8fc1a594b6e9cef443ec1c7b829": {
          "model_module": "@jupyter-widgets/base",
          "model_name": "LayoutModel",
          "model_module_version": "1.2.0",
          "state": {
            "_model_module": "@jupyter-widgets/base",
            "_model_module_version": "1.2.0",
            "_model_name": "LayoutModel",
            "_view_count": null,
            "_view_module": "@jupyter-widgets/base",
            "_view_module_version": "1.2.0",
            "_view_name": "LayoutView",
            "align_content": null,
            "align_items": null,
            "align_self": null,
            "border": null,
            "bottom": null,
            "display": null,
            "flex": null,
            "flex_flow": null,
            "grid_area": null,
            "grid_auto_columns": null,
            "grid_auto_flow": null,
            "grid_auto_rows": null,
            "grid_column": null,
            "grid_gap": null,
            "grid_row": null,
            "grid_template_areas": null,
            "grid_template_columns": null,
            "grid_template_rows": null,
            "height": null,
            "justify_content": null,
            "justify_items": null,
            "left": null,
            "margin": null,
            "max_height": null,
            "max_width": null,
            "min_height": null,
            "min_width": null,
            "object_fit": null,
            "object_position": null,
            "order": null,
            "overflow": null,
            "overflow_x": null,
            "overflow_y": null,
            "padding": null,
            "right": null,
            "top": null,
            "visibility": null,
            "width": null
          }
        },
        "0501b933bee54b9daa59998885dd2440": {
          "model_module": "@jupyter-widgets/controls",
          "model_name": "ProgressStyleModel",
          "model_module_version": "1.5.0",
          "state": {
            "_model_module": "@jupyter-widgets/controls",
            "_model_module_version": "1.5.0",
            "_model_name": "ProgressStyleModel",
            "_view_count": null,
            "_view_module": "@jupyter-widgets/base",
            "_view_module_version": "1.2.0",
            "_view_name": "StyleView",
            "bar_color": null,
            "description_width": ""
          }
        },
        "bd2d1c6122304a168834df3f86c686d7": {
          "model_module": "@jupyter-widgets/base",
          "model_name": "LayoutModel",
          "model_module_version": "1.2.0",
          "state": {
            "_model_module": "@jupyter-widgets/base",
            "_model_module_version": "1.2.0",
            "_model_name": "LayoutModel",
            "_view_count": null,
            "_view_module": "@jupyter-widgets/base",
            "_view_module_version": "1.2.0",
            "_view_name": "LayoutView",
            "align_content": null,
            "align_items": null,
            "align_self": null,
            "border": null,
            "bottom": null,
            "display": null,
            "flex": null,
            "flex_flow": null,
            "grid_area": null,
            "grid_auto_columns": null,
            "grid_auto_flow": null,
            "grid_auto_rows": null,
            "grid_column": null,
            "grid_gap": null,
            "grid_row": null,
            "grid_template_areas": null,
            "grid_template_columns": null,
            "grid_template_rows": null,
            "height": null,
            "justify_content": null,
            "justify_items": null,
            "left": null,
            "margin": null,
            "max_height": null,
            "max_width": null,
            "min_height": null,
            "min_width": null,
            "object_fit": null,
            "object_position": null,
            "order": null,
            "overflow": null,
            "overflow_x": null,
            "overflow_y": null,
            "padding": null,
            "right": null,
            "top": null,
            "visibility": null,
            "width": null
          }
        },
        "47fc6f88265046098944c2276c22962b": {
          "model_module": "@jupyter-widgets/controls",
          "model_name": "DescriptionStyleModel",
          "model_module_version": "1.5.0",
          "state": {
            "_model_module": "@jupyter-widgets/controls",
            "_model_module_version": "1.5.0",
            "_model_name": "DescriptionStyleModel",
            "_view_count": null,
            "_view_module": "@jupyter-widgets/base",
            "_view_module_version": "1.2.0",
            "_view_name": "StyleView",
            "description_width": ""
          }
        }
      }
    }
  },
  "nbformat": 4,
  "nbformat_minor": 0
}